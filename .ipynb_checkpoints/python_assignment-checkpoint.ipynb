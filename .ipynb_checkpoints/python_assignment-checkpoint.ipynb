{
 "cells": [
  {
   "cell_type": "raw",
   "id": "697e3589-6fb1-49aa-80ad-a7d2f882a4b4",
   "metadata": {},
   "source": [
    "# 1. Explain the key features of Python that make it a popular choice for programing .\n",
    "Ans. EASY TO CODE: Python is a high level programming language. Python is very is to learn language as compared to other language like C,C#,JAVASCRIPT,JAVA,etc. It is very easy to code in python language and anybody can learn python basics in few hours or days. \n",
    "OBJECT-ORIENTED LANGUAGE: Python supports object oriented language and concepts of classes , object encapsulation etc.we can also make a program in structural or noramal way.\n",
    "HIGH LEVEL PROGRAMMING: Python is high level language.Its contains special symbols,alphabets,etc. When we write program in python, we do not need to remember the system , nor do we need manage  the memory.\n",
    "EASY TO DEBUG: Excellent information for mistake tracing . you will be able to quickly identify and correct the majority of your program's issues once you understand how to interpret python's error traces.\n",
    "LARGE STANDARD LIBRARY: Python has a large standard library. That provides a rich set of modules and fuctions so you do not have to write your own code for every single thing. There are many libraries present in python such as regular expressions,unit testing ,web browsers,etc.\n",
    "\n",
    "\n",
    "# 2. Describe the role of predefined keywords in python and provide exmples of how they are used in a program.\n",
    "Ans. In python , predefined keywords are reserved words that have special meaning and purpose within the language. They are integral to the syntax and structure of python code.These keywords can not ne used as identifiers(such as variables or function names).\n",
    "Few example of predefined keywords and their roles:\n",
    "\n",
    "- True,False\n",
    "They are the result of comparison operation or logical (Boolen) operation in python.\n",
    "example:\n",
    "\n",
    "\n",
    "\n",
    "\n",
    "\n",
    "\n",
    "\n"
   ]
  },
  {
   "cell_type": "code",
   "execution_count": 1,
   "id": "95e6153b-a616-4129-998b-4fd1123a98a7",
   "metadata": {},
   "outputs": [
    {
     "data": {
      "text/plain": [
       "True"
      ]
     },
     "execution_count": 1,
     "metadata": {},
     "output_type": "execute_result"
    }
   ],
   "source": [
    "1 == 1\n",
    "\n"
   ]
  },
  {
   "cell_type": "code",
   "execution_count": 54,
   "id": "adbe52c5-b025-4f3b-a81b-78b6ff0f12cb",
   "metadata": {},
   "outputs": [
    {
     "data": {
      "text/plain": [
       "True"
      ]
     },
     "execution_count": 54,
     "metadata": {},
     "output_type": "execute_result"
    }
   ],
   "source": [
    "5 > 3"
   ]
  },
  {
   "cell_type": "code",
   "execution_count": 55,
   "id": "291c004e-ee63-4f55-a55b-f685c431a095",
   "metadata": {},
   "outputs": [
    {
     "data": {
      "text/plain": [
       "True"
      ]
     },
     "execution_count": 55,
     "metadata": {},
     "output_type": "execute_result"
    }
   ],
   "source": [
    "True or False"
   ]
  },
  {
   "cell_type": "code",
   "execution_count": 56,
   "id": "51ab9019-ac4a-4bcf-8ad5-c182b95dd14d",
   "metadata": {},
   "outputs": [
    {
     "data": {
      "text/plain": [
       "False"
      ]
     },
     "execution_count": 56,
     "metadata": {},
     "output_type": "execute_result"
    }
   ],
   "source": [
    "10 <= 1\n"
   ]
  },
  {
   "cell_type": "code",
   "execution_count": 57,
   "id": "dd074867-44a7-4812-815c-1c9f9dc1c99d",
   "metadata": {},
   "outputs": [
    {
     "data": {
      "text/plain": [
       "False"
      ]
     },
     "execution_count": 57,
     "metadata": {},
     "output_type": "execute_result"
    }
   ],
   "source": [
    "True and False"
   ]
  },
  {
   "cell_type": "raw",
   "id": "035ebfb4-4715-4649-9dd4-24001355a065",
   "metadata": {},
   "source": [
    "- None is a special constant in python that represents the absence of a value .\n",
    "\n"
   ]
  },
  {
   "cell_type": "code",
   "execution_count": 58,
   "id": "4fda97d5-d4db-443a-9e94-6e4a9224c4b1",
   "metadata": {},
   "outputs": [
    {
     "data": {
      "text/plain": [
       "False"
      ]
     },
     "execution_count": 58,
     "metadata": {},
     "output_type": "execute_result"
    }
   ],
   "source": [
    "None == 0"
   ]
  },
  {
   "cell_type": "code",
   "execution_count": 59,
   "id": "d173d9b2-8136-40c5-8804-02f168188c3e",
   "metadata": {},
   "outputs": [
    {
     "data": {
      "text/plain": [
       "False"
      ]
     },
     "execution_count": 59,
     "metadata": {},
     "output_type": "execute_result"
    }
   ],
   "source": [
    "None == 1"
   ]
  },
  {
   "cell_type": "code",
   "execution_count": 60,
   "id": "85087bea-4732-485f-a61b-727660ff5059",
   "metadata": {},
   "outputs": [
    {
     "data": {
      "text/plain": [
       "False"
      ]
     },
     "execution_count": 60,
     "metadata": {},
     "output_type": "execute_result"
    }
   ],
   "source": [
    "None == False"
   ]
  },
  {
   "cell_type": "code",
   "execution_count": 61,
   "id": "2a3a4a9c-4f42-4f9a-82ea-ba495ed0571e",
   "metadata": {},
   "outputs": [
    {
     "data": {
      "text/plain": [
       "True"
      ]
     },
     "execution_count": 61,
     "metadata": {},
     "output_type": "execute_result"
    }
   ],
   "source": [
    "x = None\n",
    "y = None\n",
    "x == y"
   ]
  },
  {
   "cell_type": "raw",
   "id": "e29b3c69-9772-4bbc-ac62-027304ad3b9f",
   "metadata": {},
   "source": [
    "-is used to test two variables refer to the same object.\n"
   ]
  },
  {
   "cell_type": "code",
   "execution_count": 62,
   "id": "473f3967-8f5d-4674-a01b-42d70d9ac664",
   "metadata": {},
   "outputs": [
    {
     "data": {
      "text/plain": [
       "True"
      ]
     },
     "execution_count": 62,
     "metadata": {},
     "output_type": "execute_result"
    }
   ],
   "source": [
    "True is True"
   ]
  },
  {
   "cell_type": "code",
   "execution_count": 63,
   "id": "3370bac1-8561-4a78-a203-a40968c75336",
   "metadata": {},
   "outputs": [
    {
     "data": {
      "text/plain": [
       "True"
      ]
     },
     "execution_count": 63,
     "metadata": {},
     "output_type": "execute_result"
    }
   ],
   "source": [
    "False is False"
   ]
  },
  {
   "cell_type": "code",
   "execution_count": 64,
   "id": "da2d9cb4-9b54-4aee-886b-c3ba6c9f9f85",
   "metadata": {},
   "outputs": [
    {
     "data": {
      "text/plain": [
       "True"
      ]
     },
     "execution_count": 64,
     "metadata": {},
     "output_type": "execute_result"
    }
   ],
   "source": [
    "None is None"
   ]
  },
  {
   "cell_type": "raw",
   "id": "efb451e3-5ce8-4bfc-ab37-849ea99c5e09",
   "metadata": {},
   "source": [
    "# 3. Compare and contrast mutable and immutable objects in Python with examples.\n",
    "Mutable: When something is changeable or has the ability to change. In Python, mutable is the ability of objects to change their values. These are often the objects that store are collection of data.\n",
    "Immutable: When no change is possible overtime.In python, if the value of an object can not be changed overtime,than it is known as immutable. once created, the value of these object is permanent. "
   ]
  },
  {
   "cell_type": "code",
   "execution_count": 65,
   "id": "be6ff02f-7348-4f80-beea-50a146b7033c",
   "metadata": {},
   "outputs": [
    {
     "data": {
      "text/plain": [
       "[1, 4, 2.8, (2+5j), False, 'rahul']"
      ]
     },
     "execution_count": 65,
     "metadata": {},
     "output_type": "execute_result"
    }
   ],
   "source": [
    "list_cont = [1,4,2.8,2+5j,False,'rahul']\n",
    "list_cont"
   ]
  },
  {
   "cell_type": "code",
   "execution_count": 66,
   "id": "efdeeb39-adff-495d-81d0-c381a19f9c90",
   "metadata": {},
   "outputs": [
    {
     "data": {
      "text/plain": [
       "(2+5j)"
      ]
     },
     "execution_count": 66,
     "metadata": {},
     "output_type": "execute_result"
    }
   ],
   "source": [
    "list_cont[3]"
   ]
  },
  {
   "cell_type": "code",
   "execution_count": 67,
   "id": "2d6da8ce-3281-4f08-815e-4d4664973d35",
   "metadata": {},
   "outputs": [
    {
     "data": {
      "text/plain": [
       "list"
      ]
     },
     "execution_count": 67,
     "metadata": {},
     "output_type": "execute_result"
    }
   ],
   "source": [
    "type(list_cont)"
   ]
  },
  {
   "cell_type": "code",
   "execution_count": 68,
   "id": "c475a155-5bfe-4e83-aa94-b598f4e80ae4",
   "metadata": {},
   "outputs": [],
   "source": [
    "a=5\n",
    "b=10\n"
   ]
  },
  {
   "cell_type": "code",
   "execution_count": 69,
   "id": "d8aaab5e-995f-4960-b47c-b053d4dbac34",
   "metadata": {},
   "outputs": [
    {
     "data": {
      "text/plain": [
       "15"
      ]
     },
     "execution_count": 69,
     "metadata": {},
     "output_type": "execute_result"
    }
   ],
   "source": [
    "a+b"
   ]
  },
  {
   "cell_type": "code",
   "execution_count": 70,
   "id": "877fd16c-771b-46e8-b3aa-e9d080ee701e",
   "metadata": {},
   "outputs": [
    {
     "data": {
      "text/plain": [
       "int"
      ]
     },
     "execution_count": 70,
     "metadata": {},
     "output_type": "execute_result"
    }
   ],
   "source": [
    "type(a)"
   ]
  },
  {
   "cell_type": "code",
   "execution_count": 71,
   "id": "e5b6e7f5-2527-45d6-b910-8037bb60c2e3",
   "metadata": {},
   "outputs": [
    {
     "data": {
      "text/plain": [
       "1.5"
      ]
     },
     "execution_count": 71,
     "metadata": {},
     "output_type": "execute_result"
    }
   ],
   "source": [
    "A=4\n",
    "B=2.5\n",
    "A-B"
   ]
  },
  {
   "cell_type": "code",
   "execution_count": 72,
   "id": "78ae174c-8f17-4d6e-bc3c-49a1300effde",
   "metadata": {},
   "outputs": [
    {
     "data": {
      "text/plain": [
       "float"
      ]
     },
     "execution_count": 72,
     "metadata": {},
     "output_type": "execute_result"
    }
   ],
   "source": [
    "type(1.5)"
   ]
  },
  {
   "cell_type": "raw",
   "id": "9b85404b-5479-4117-8973-d707943302f3",
   "metadata": {},
   "source": [
    "# 4. Discuss the different types of operators in Python and provide examples of how they are used.\n",
    "Ans. - ARITHMETIC OPERATORS: Arithmetic operators including additions,subtraction,multiplication,and division are commonly carried out using python arithmetic operators.\n"
   ]
  },
  {
   "cell_type": "code",
   "execution_count": 73,
   "id": "60f5f038-390a-4bff-9f68-f6f3d0276d15",
   "metadata": {},
   "outputs": [],
   "source": [
    "a=21\n",
    "b=10"
   ]
  },
  {
   "cell_type": "code",
   "execution_count": 74,
   "id": "99857903-d9f0-4d7e-94a2-e89dd8815cc2",
   "metadata": {},
   "outputs": [
    {
     "name": "stdout",
     "output_type": "stream",
     "text": [
      "31\n"
     ]
    }
   ],
   "source": [
    "print(a+b)"
   ]
  },
  {
   "cell_type": "code",
   "execution_count": 75,
   "id": "8a7a410b-243a-41ea-9194-4ed11d63fa63",
   "metadata": {},
   "outputs": [],
   "source": [
    "x=40\n",
    "y=2\n"
   ]
  },
  {
   "cell_type": "code",
   "execution_count": 76,
   "id": "bb194536-327b-4315-9c15-7916b4402282",
   "metadata": {},
   "outputs": [
    {
     "name": "stdout",
     "output_type": "stream",
     "text": [
      "0\n"
     ]
    }
   ],
   "source": [
    "print(x%y)"
   ]
  },
  {
   "cell_type": "raw",
   "id": "7526dfc1-4531-478c-a747-6df7a326cbd7",
   "metadata": {},
   "source": [
    "- COMPARISON OPERATORS: Compare two value and return a boolen value (True and False). \n"
   ]
  },
  {
   "cell_type": "code",
   "execution_count": 77,
   "id": "5c0e5c07-bf4f-4ce0-bfb6-f7962bc8a11e",
   "metadata": {},
   "outputs": [
    {
     "data": {
      "text/plain": [
       "True"
      ]
     },
     "execution_count": 77,
     "metadata": {},
     "output_type": "execute_result"
    }
   ],
   "source": [
    "2 == 2"
   ]
  },
  {
   "cell_type": "code",
   "execution_count": 78,
   "id": "6f706a3b-1d1c-4948-a04a-167e800e3b26",
   "metadata": {},
   "outputs": [
    {
     "data": {
      "text/plain": [
       "False"
      ]
     },
     "execution_count": 78,
     "metadata": {},
     "output_type": "execute_result"
    }
   ],
   "source": [
    "2 != 2"
   ]
  },
  {
   "cell_type": "code",
   "execution_count": 79,
   "id": "af7cfef4-e8a7-4078-aed8-177a5eba6799",
   "metadata": {},
   "outputs": [
    {
     "data": {
      "text/plain": [
       "True"
      ]
     },
     "execution_count": 79,
     "metadata": {},
     "output_type": "execute_result"
    }
   ],
   "source": [
    "10 > 2"
   ]
  },
  {
   "cell_type": "code",
   "execution_count": 80,
   "id": "4c1a7334-91b9-4d33-8dff-862756099444",
   "metadata": {},
   "outputs": [
    {
     "data": {
      "text/plain": [
       "True"
      ]
     },
     "execution_count": 80,
     "metadata": {},
     "output_type": "execute_result"
    }
   ],
   "source": [
    "10 <= 10"
   ]
  },
  {
   "cell_type": "raw",
   "id": "746e0414-7620-4f88-ae2b-1cf97d4112b5",
   "metadata": {},
   "source": [
    "- LOGICAL OPERATORS: These are used to compose boolen expresions and evaluate their truth values.\n",
    "It has three basic logical operators: AND , OR and NOT ."
   ]
  },
  {
   "cell_type": "code",
   "execution_count": 81,
   "id": "d357abc4-5e2c-4aef-ac4e-e63dde53b9fe",
   "metadata": {},
   "outputs": [
    {
     "data": {
      "text/plain": [
       "True"
      ]
     },
     "execution_count": 81,
     "metadata": {},
     "output_type": "execute_result"
    }
   ],
   "source": [
    "True and True"
   ]
  },
  {
   "cell_type": "code",
   "execution_count": 82,
   "id": "3a6fe1db-de73-4059-9e5c-6c5def049733",
   "metadata": {},
   "outputs": [
    {
     "data": {
      "text/plain": [
       "False"
      ]
     },
     "execution_count": 82,
     "metadata": {},
     "output_type": "execute_result"
    }
   ],
   "source": [
    "True and False"
   ]
  },
  {
   "cell_type": "code",
   "execution_count": 83,
   "id": "c2065586-1c15-47fc-8cf8-5fa7bca7eecf",
   "metadata": {},
   "outputs": [
    {
     "data": {
      "text/plain": [
       "False"
      ]
     },
     "execution_count": 83,
     "metadata": {},
     "output_type": "execute_result"
    }
   ],
   "source": [
    "False or False"
   ]
  },
  {
   "cell_type": "code",
   "execution_count": 84,
   "id": "9ca3d549-79d9-4d46-b451-9a184f3633ae",
   "metadata": {},
   "outputs": [
    {
     "data": {
      "text/plain": [
       "True"
      ]
     },
     "execution_count": 84,
     "metadata": {},
     "output_type": "execute_result"
    }
   ],
   "source": [
    "False or True"
   ]
  },
  {
   "cell_type": "code",
   "execution_count": 85,
   "id": "6682a9a2-8d80-4536-99d4-274be00190c5",
   "metadata": {},
   "outputs": [
    {
     "data": {
      "text/plain": [
       "False"
      ]
     },
     "execution_count": 85,
     "metadata": {},
     "output_type": "execute_result"
    }
   ],
   "source": [
    "not True"
   ]
  },
  {
   "cell_type": "code",
   "execution_count": 86,
   "id": "6483ad25-df43-4f26-90a6-c92ba9c66f0c",
   "metadata": {},
   "outputs": [
    {
     "data": {
      "text/plain": [
       "True"
      ]
     },
     "execution_count": 86,
     "metadata": {},
     "output_type": "execute_result"
    }
   ],
   "source": [
    "not False"
   ]
  },
  {
   "cell_type": "raw",
   "id": "bfff892c-793c-47fa-bc8a-49548459f624",
   "metadata": {},
   "source": [
    "-ASSIGNMENT OPERATORS: In which assign values to variables in python."
   ]
  },
  {
   "cell_type": "code",
   "execution_count": 87,
   "id": "ac9d93c3-52de-4ff4-a848-efd05b3ba601",
   "metadata": {},
   "outputs": [],
   "source": [
    "x=5"
   ]
  },
  {
   "cell_type": "code",
   "execution_count": 88,
   "id": "01be1262-65f3-4d18-8049-13a44569ad96",
   "metadata": {},
   "outputs": [
    {
     "name": "stdout",
     "output_type": "stream",
     "text": [
      "5\n"
     ]
    }
   ],
   "source": [
    "print(x)"
   ]
  },
  {
   "cell_type": "code",
   "execution_count": 89,
   "id": "29020ffb-7f42-4a19-a29f-21741ceedc54",
   "metadata": {},
   "outputs": [],
   "source": [
    "x=x+5"
   ]
  },
  {
   "cell_type": "code",
   "execution_count": 90,
   "id": "2c28d429-d0e5-440c-a728-011646558265",
   "metadata": {},
   "outputs": [
    {
     "name": "stdout",
     "output_type": "stream",
     "text": [
      "10\n"
     ]
    }
   ],
   "source": [
    "print(x)"
   ]
  },
  {
   "cell_type": "code",
   "execution_count": 91,
   "id": "65296834-2404-487d-b489-90cc4a3e5ced",
   "metadata": {},
   "outputs": [],
   "source": [
    "x-=5"
   ]
  },
  {
   "cell_type": "code",
   "execution_count": 92,
   "id": "4b9f2be7-6408-4b2f-a031-7f8f07d451b8",
   "metadata": {},
   "outputs": [
    {
     "name": "stdout",
     "output_type": "stream",
     "text": [
      "5\n"
     ]
    }
   ],
   "source": [
    "print(x)"
   ]
  },
  {
   "cell_type": "raw",
   "id": "651f9884-1448-4344-a171-0c273b4cc9a9",
   "metadata": {},
   "source": [
    "-MEMBERSHIP OPERATORS: They make it simple to determine the value of element in various python data structures . such as lists, tuple, sets, and string."
   ]
  },
  {
   "cell_type": "code",
   "execution_count": 93,
   "id": "20bcd09e-ba0a-4bce-9d61-507ac2fd1e5e",
   "metadata": {},
   "outputs": [
    {
     "data": {
      "text/plain": [
       "True"
      ]
     },
     "execution_count": 93,
     "metadata": {},
     "output_type": "execute_result"
    }
   ],
   "source": [
    "a = 'apple'\n",
    "a in a"
   ]
  },
  {
   "cell_type": "raw",
   "id": "e612480b-326e-4a67-9be7-d3fe54629e42",
   "metadata": {},
   "source": [
    "-IDENTITIFY OPERATORS: Compare the location of two object/variable.\n"
   ]
  },
  {
   "cell_type": "code",
   "execution_count": 94,
   "id": "d089159a-17ab-4070-8313-57f058acb20c",
   "metadata": {},
   "outputs": [],
   "source": [
    "x=10\n",
    "y=10"
   ]
  },
  {
   "cell_type": "code",
   "execution_count": 95,
   "id": "894e83db-79bb-4d4d-8b9c-a64200e268cf",
   "metadata": {},
   "outputs": [
    {
     "name": "stdout",
     "output_type": "stream",
     "text": [
      "True\n"
     ]
    }
   ],
   "source": [
    "print(x is y)"
   ]
  },
  {
   "cell_type": "code",
   "execution_count": 96,
   "id": "251966b6-2c59-468d-91a2-4dcac9ed4d9a",
   "metadata": {},
   "outputs": [
    {
     "name": "stdout",
     "output_type": "stream",
     "text": [
      "False\n"
     ]
    }
   ],
   "source": [
    "print(x is not y)"
   ]
  },
  {
   "cell_type": "raw",
   "id": "3fd29715-312b-497b-994a-b3e7204ec2f3",
   "metadata": {},
   "source": [
    "# 5. Explain the concept of type casting in Python with examples.\n",
    "Ans. Type casting is the method to convert the variable data type into a certtain data type in order to perform the required operation by users. There are two types of casting.\n",
    "python Implicit Type conversion\n",
    "python Explicit Type conversion"
   ]
  },
  {
   "cell_type": "code",
   "execution_count": 97,
   "id": "574c1d3e-cfab-41d5-a866-faab086104f3",
   "metadata": {},
   "outputs": [
    {
     "name": "stdout",
     "output_type": "stream",
     "text": [
      "<class 'type'> 7\n"
     ]
    }
   ],
   "source": [
    "a=7\n",
    "print(type,(a))"
   ]
  },
  {
   "cell_type": "code",
   "execution_count": 98,
   "id": "95d06df3-efb8-4479-bec2-3332a41e7143",
   "metadata": {},
   "outputs": [
    {
     "data": {
      "text/plain": [
       "int"
      ]
     },
     "execution_count": 98,
     "metadata": {},
     "output_type": "execute_result"
    }
   ],
   "source": [
    "type(a)"
   ]
  },
  {
   "cell_type": "code",
   "execution_count": 99,
   "id": "0a70e9ec-0ebd-4e12-8cac-1be3653fa179",
   "metadata": {},
   "outputs": [
    {
     "name": "stdout",
     "output_type": "stream",
     "text": [
      "<class 'float'>\n"
     ]
    }
   ],
   "source": [
    "b=7.5\n",
    "print(type(b))"
   ]
  },
  {
   "cell_type": "code",
   "execution_count": 100,
   "id": "0148d074-1ade-439a-96bb-3cf9b3c1868f",
   "metadata": {},
   "outputs": [
    {
     "name": "stdout",
     "output_type": "stream",
     "text": [
      "<class 'float'>\n"
     ]
    }
   ],
   "source": [
    "c=a+b\n",
    "print(type(c))"
   ]
  },
  {
   "cell_type": "raw",
   "id": "ce16a16f-0aa3-48ca-90d3-9f699d86a8bc",
   "metadata": {},
   "source": [
    "# 6. How do conditional statements work in Python? Illustrate with examples.\n",
    "Ans. A conditional statement is used to handle conditions in your program. In which are three conditional statements in python: if statement,if-else statements, if-elif-else statement.\n",
    "IF STATEMENT: The if statement is a conditional statement in python used to determine whether a block of code will be executed.\n"
   ]
  },
  {
   "cell_type": "raw",
   "id": "eda34a6e-1233-4142-b063-f5a046c3b5e8",
   "metadata": {},
   "source": [
    "If else statement: If else statemnt executes the code block when conditions is true. Similarly, the else statement works in conjuncture with the if statement to execute a code block when the defined if condition is false."
   ]
  },
  {
   "cell_type": "raw",
   "id": "c459eb28-5681-4cb8-b824-3e5692ae7214",
   "metadata": {},
   "source": [
    "IF Elif Else statements: The elif statement is used to check for multiple conditions and execute the code block within if any of the conditions are evaluted to be true.\n"
   ]
  },
  {
   "cell_type": "raw",
   "id": "596dac19-6084-4059-b588-3fc2ad81db43",
   "metadata": {},
   "source": [
    "# 7. Describe the different types of loops in Python and their use cases with examples.\n",
    "Ans. A loop is an instruction that repeats multiples times as long as some condition is met.\n",
    "There are manyly two types of loops.\n",
    "- FOR LOOP: A for loop in python is used to iterate over a sequence (list,tuple,set,dict and string) "
   ]
  },
  {
   "cell_type": "code",
   "execution_count": 101,
   "id": "624643d8-4fb0-441a-b19a-cbab95a7547b",
   "metadata": {},
   "outputs": [
    {
     "name": "stdout",
     "output_type": "stream",
     "text": [
      "python\n",
      "simplilearn\n",
      "tutorial\n"
     ]
    }
   ],
   "source": [
    "#iterate through a list\n",
    "x = [\"python\",\"simplilearn\",\"tutorial\"]\n",
    "for i in x:\n",
    "    print(i)"
   ]
  },
  {
   "cell_type": "raw",
   "id": "8f10ecdd-ae3b-467a-9174-f9631fb4a1f5",
   "metadata": {},
   "source": [
    "-WHILE LOOP: The while loop is used to execute a set of statements as long as a condition is true."
   ]
  },
  {
   "cell_type": "code",
   "execution_count": 102,
   "id": "4eb69fb0-91e4-4074-8324-ea6790e42731",
   "metadata": {},
   "outputs": [
    {
     "name": "stdout",
     "output_type": "stream",
     "text": [
      "1\n",
      "2\n"
     ]
    }
   ],
   "source": [
    "#while loop\n",
    "x = 1\n",
    "while x<3:\n",
    "    print(x)\n",
    "    x = x+1"
   ]
  }
 ],
 "metadata": {
  "kernelspec": {
   "display_name": "Python 3 (ipykernel)",
   "language": "python",
   "name": "python3"
  },
  "language_info": {
   "codemirror_mode": {
    "name": "ipython",
    "version": 3
   },
   "file_extension": ".py",
   "mimetype": "text/x-python",
   "name": "python",
   "nbconvert_exporter": "python",
   "pygments_lexer": "ipython3",
   "version": "3.10.8"
  },
  "toc-showtags": true
 },
 "nbformat": 4,
 "nbformat_minor": 5
}
